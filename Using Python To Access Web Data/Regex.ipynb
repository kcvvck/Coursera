{
 "cells": [
  {
   "cell_type": "code",
   "execution_count": 13,
   "metadata": {},
   "outputs": [
    {
     "name": "stdout",
     "output_type": "stream",
     "text": [
      "Total sum is: 542280\n",
      "Number of values is: 105\n"
     ]
    }
   ],
   "source": [
    "import re\n",
    "\n",
    "f = open(\"regex_sum_1093503.txt\")\n",
    "\n",
    "totalSum = 0\n",
    "numOfValues = 0\n",
    "for line in f:\n",
    "    line = line.rstrip()\n",
    "    number = re.findall('[0-9]+', line)\n",
    "    for num in number:\n",
    "        numOfValues+=1\n",
    "        num = int(num)\n",
    "        totalSum += num\n",
    "\n",
    "print(\"Total sum is:\", totalSum)\n",
    "print(\"Number of values is:\", numOfValues)"
   ]
  },
  {
   "cell_type": "code",
   "execution_count": null,
   "metadata": {},
   "outputs": [],
   "source": []
  },
  {
   "cell_type": "code",
   "execution_count": null,
   "metadata": {},
   "outputs": [],
   "source": []
  }
 ],
 "metadata": {
  "kernelspec": {
   "display_name": "Python 3",
   "language": "python",
   "name": "python3"
  },
  "language_info": {
   "codemirror_mode": {
    "name": "ipython",
    "version": 3
   },
   "file_extension": ".py",
   "mimetype": "text/x-python",
   "name": "python",
   "nbconvert_exporter": "python",
   "pygments_lexer": "ipython3",
   "version": "3.7.6"
  }
 },
 "nbformat": 4,
 "nbformat_minor": 4
}
