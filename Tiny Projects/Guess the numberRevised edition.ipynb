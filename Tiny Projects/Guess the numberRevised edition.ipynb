{
 "cells": [
  {
   "cell_type": "code",
   "execution_count": 5,
   "metadata": {},
   "outputs": [
    {
     "name": "stdout",
     "output_type": "stream",
     "text": [
      "Guess the number, numbers only\n"
     ]
    }
   ],
   "source": [
    "# error debugged from previous\n",
    "# raises error values\n",
    "# 1\n",
    "\n",
    "import random\n",
    "import time\n",
    "\n",
    "playing = True\n",
    "def_number = 100\n",
    "\n",
    "number = random.randint(0, def_number)\n",
    "no_of_times = 1\n",
    "\n",
    "print(\"Guess the number, numbers only\")\n",
    "\n",
    "def win():\n",
    "    global playing\n",
    "    global proceed\n",
    "    global def_number\n",
    "    proceed= input(\"press 'y' for yes or 'n' for no.\")\n",
    "    if proceed == 'y':\n",
    "        print('hi')\n",
    "        def_number += 100\n",
    "        number = random.randint(100, def_number)\n",
    "        no_of_times = 1\n",
    "        print('HIIIIII')\n",
    "        Guess2()\n",
    "    elif proceed == 'n':\n",
    "        print(\"thanks for playing! :D\")\n",
    "        playing = False\n",
    "    else:\n",
    "        print(\"uh oh, try again!\")\n",
    "        win()\n",
    "        \n",
    "    \n",
    "def Guess():\n",
    "    global playing\n",
    "    global proceed\n",
    "    global number\n",
    "    print('playingrrrrr')\n",
    "    def Guess2():\n",
    "        global no_of_times\n",
    "        while playing:\n",
    "            try:\n",
    "                userinput = int(input(\"input your number here \"))\n",
    "                while userinput < number or userinput > number or userinput == number:\n",
    "                    if userinput < number:\n",
    "                        print(\"number is higher\")\n",
    "                        userinput = int(input(\"input your number here \"))\n",
    "                        no_of_times += 1\n",
    "                        print(\"you have guessed\", no_of_times, \"times\")\n",
    "                    elif userinput > number:\n",
    "                        print(\"number is lower\")\n",
    "                        userinput = int(input(\"input your number here \"))\n",
    "                        no_of_times += 1\n",
    "                        print(\"you have guessed\", no_of_times, \"times\")\n",
    "                    else:\n",
    "                        print('playingttttt')\n",
    "                        print(\"Congrats you guessed it!\")\n",
    "                        print(\"you have guessed\", no_of_times, \"times\")\n",
    "                        print(\"\")\n",
    "                        print(\"do you wish to proceed to next stage?\")\n",
    "                        print(\"\")\n",
    "                        print('hhhhtgtplaying')\n",
    "                        win()\n",
    "                else: raise ValueError\n",
    "            except ValueError:\n",
    "                print ('You have entered an invalid value.')\n",
    "                Guess2()\n",
    "        else:\n",
    "            pass;\n",
    "    Guess2()\n",
    "        "
   ]
  },
  {
   "cell_type": "code",
   "execution_count": 6,
   "metadata": {},
   "outputs": [
    {
     "name": "stdout",
     "output_type": "stream",
     "text": [
      "playingrrrrr\n",
      "input your number here 50\n",
      "number is higher\n",
      "input your number here 80\n",
      "you have guessed 2 times\n",
      "number is higher\n",
      "input your number here 90\n",
      "you have guessed 3 times\n",
      "number is higher\n",
      "input your number here 99\n",
      "you have guessed 4 times\n",
      "number is lower\n",
      "input your number here 98\n",
      "you have guessed 5 times\n",
      "number is lower\n",
      "input your number here 95\n",
      "you have guessed 6 times\n",
      "number is lower\n",
      "input your number here 92\n",
      "you have guessed 7 times\n",
      "number is lower\n",
      "input your number here 91\n",
      "you have guessed 8 times\n",
      "playingttttt\n",
      "Congrats you guessed it!\n",
      "you have guessed 8 times\n",
      "\n",
      "do you wish to proceed to next stage?\n",
      "\n",
      "hhhhtgtplaying\n",
      "press 'y' for yes or 'n' for no.y\n",
      "hi\n",
      "HIIIIII\n"
     ]
    },
    {
     "ename": "NameError",
     "evalue": "name 'Guess2' is not defined",
     "output_type": "error",
     "traceback": [
      "\u001b[0;31m---------------------------------------------------------------------------\u001b[0m",
      "\u001b[0;31mNameError\u001b[0m                                 Traceback (most recent call last)",
      "\u001b[0;32m<ipython-input-6-a10d7c74face>\u001b[0m in \u001b[0;36m<module>\u001b[0;34m\u001b[0m\n\u001b[0;32m----> 1\u001b[0;31m \u001b[0mGuess\u001b[0m\u001b[0;34m(\u001b[0m\u001b[0;34m)\u001b[0m\u001b[0;34m\u001b[0m\u001b[0;34m\u001b[0m\u001b[0m\n\u001b[0m",
      "\u001b[0;32m<ipython-input-5-18b1b308fb48>\u001b[0m in \u001b[0;36mGuess\u001b[0;34m()\u001b[0m\n\u001b[1;32m     70\u001b[0m         \u001b[0;32melse\u001b[0m\u001b[0;34m:\u001b[0m\u001b[0;34m\u001b[0m\u001b[0;34m\u001b[0m\u001b[0m\n\u001b[1;32m     71\u001b[0m             \u001b[0;32mpass\u001b[0m\u001b[0;34m;\u001b[0m\u001b[0;34m\u001b[0m\u001b[0;34m\u001b[0m\u001b[0m\n\u001b[0;32m---> 72\u001b[0;31m     \u001b[0mGuess2\u001b[0m\u001b[0;34m(\u001b[0m\u001b[0;34m)\u001b[0m\u001b[0;34m\u001b[0m\u001b[0;34m\u001b[0m\u001b[0m\n\u001b[0m\u001b[1;32m     73\u001b[0m \u001b[0;34m\u001b[0m\u001b[0m\n",
      "\u001b[0;32m<ipython-input-5-18b1b308fb48>\u001b[0m in \u001b[0;36mGuess2\u001b[0;34m()\u001b[0m\n\u001b[1;32m     63\u001b[0m                         \u001b[0mprint\u001b[0m\u001b[0;34m(\u001b[0m\u001b[0;34m\"\"\u001b[0m\u001b[0;34m)\u001b[0m\u001b[0;34m\u001b[0m\u001b[0;34m\u001b[0m\u001b[0m\n\u001b[1;32m     64\u001b[0m                         \u001b[0mprint\u001b[0m\u001b[0;34m(\u001b[0m\u001b[0;34m'hhhhtgtplaying'\u001b[0m\u001b[0;34m)\u001b[0m\u001b[0;34m\u001b[0m\u001b[0;34m\u001b[0m\u001b[0m\n\u001b[0;32m---> 65\u001b[0;31m                         \u001b[0mwin\u001b[0m\u001b[0;34m(\u001b[0m\u001b[0;34m)\u001b[0m\u001b[0;34m\u001b[0m\u001b[0;34m\u001b[0m\u001b[0m\n\u001b[0m\u001b[1;32m     66\u001b[0m                 \u001b[0;32melse\u001b[0m\u001b[0;34m:\u001b[0m \u001b[0;32mraise\u001b[0m \u001b[0mValueError\u001b[0m\u001b[0;34m\u001b[0m\u001b[0;34m\u001b[0m\u001b[0m\n\u001b[1;32m     67\u001b[0m             \u001b[0;32mexcept\u001b[0m \u001b[0mValueError\u001b[0m\u001b[0;34m:\u001b[0m\u001b[0;34m\u001b[0m\u001b[0;34m\u001b[0m\u001b[0m\n",
      "\u001b[0;32m<ipython-input-5-18b1b308fb48>\u001b[0m in \u001b[0;36mwin\u001b[0;34m()\u001b[0m\n\u001b[1;32m     25\u001b[0m         \u001b[0mno_of_times\u001b[0m \u001b[0;34m=\u001b[0m \u001b[0;36m1\u001b[0m\u001b[0;34m\u001b[0m\u001b[0;34m\u001b[0m\u001b[0m\n\u001b[1;32m     26\u001b[0m         \u001b[0mprint\u001b[0m\u001b[0;34m(\u001b[0m\u001b[0;34m'HIIIIII'\u001b[0m\u001b[0;34m)\u001b[0m\u001b[0;34m\u001b[0m\u001b[0;34m\u001b[0m\u001b[0m\n\u001b[0;32m---> 27\u001b[0;31m         \u001b[0mGuess2\u001b[0m\u001b[0;34m(\u001b[0m\u001b[0;34m)\u001b[0m\u001b[0;34m\u001b[0m\u001b[0;34m\u001b[0m\u001b[0m\n\u001b[0m\u001b[1;32m     28\u001b[0m     \u001b[0;32melif\u001b[0m \u001b[0mproceed\u001b[0m \u001b[0;34m==\u001b[0m \u001b[0;34m'n'\u001b[0m\u001b[0;34m:\u001b[0m\u001b[0;34m\u001b[0m\u001b[0;34m\u001b[0m\u001b[0m\n\u001b[1;32m     29\u001b[0m         \u001b[0mprint\u001b[0m\u001b[0;34m(\u001b[0m\u001b[0;34m\"thanks for playing! :D\"\u001b[0m\u001b[0;34m)\u001b[0m\u001b[0;34m\u001b[0m\u001b[0;34m\u001b[0m\u001b[0m\n",
      "\u001b[0;31mNameError\u001b[0m: name 'Guess2' is not defined"
     ]
    }
   ],
   "source": [
    "Guess()"
   ]
  },
  {
   "cell_type": "code",
   "execution_count": null,
   "metadata": {},
   "outputs": [],
   "source": []
  },
  {
   "cell_type": "code",
   "execution_count": null,
   "metadata": {},
   "outputs": [],
   "source": [
    "import random\n",
    "import time\n",
    "\n",
    "level1 = True\n",
    "no_of_times = 0\n",
    "\n",
    "number = random.randint(0, 100)\n",
    "\n",
    "while level1 and no_of_times < 3:\n",
    "    try:\n",
    "        userinput=int(input('Enter your number: '))\n",
    "    except:\n",
    "        print ('You have entered an invalid value.')\n",
    "no_of_times += 1"
   ]
  },
  {
   "cell_type": "code",
   "execution_count": null,
   "metadata": {},
   "outputs": [],
   "source": [
    "x = input(\"hello \")\n",
    "\n",
    "if \"hi\" in x:\n",
    "    print(\"yes im here\")\n",
    "else:\n",
    "    pass;"
   ]
  },
  {
   "cell_type": "code",
   "execution_count": null,
   "metadata": {},
   "outputs": [],
   "source": [
    "def foo():\n",
    "    try:\n",
    "        user_input_1 = float(input('What is your weight? '))\n",
    "        user_input_2 = float(input('What is your height? '))\n",
    "        if all(x>0 for x in [user_input_1,user_input_2]):\n",
    "            b = user_input_1/user_input_2**2\n",
    "            print(b)\n",
    "            if 0 > b > 26:\n",
    "               print('You are skinny as a rail')\n",
    "            elif 19 > b > 26:\n",
    "               print(\"You are fit as a butcher's dog\")\n",
    "            else:\n",
    "               print('You are as plum as a partridge')\n",
    "        else: raise ValueError\n",
    "    except ValueError:\n",
    "        print('Enter your height in meters as a float')\n",
    "        foo()"
   ]
  },
  {
   "cell_type": "code",
   "execution_count": null,
   "metadata": {},
   "outputs": [],
   "source": [
    "foo()"
   ]
  },
  {
   "cell_type": "code",
   "execution_count": null,
   "metadata": {},
   "outputs": [],
   "source": []
  }
 ],
 "metadata": {
  "kernelspec": {
   "display_name": "Python 3",
   "language": "python",
   "name": "python3"
  },
  "language_info": {
   "codemirror_mode": {
    "name": "ipython",
    "version": 3
   },
   "file_extension": ".py",
   "mimetype": "text/x-python",
   "name": "python",
   "nbconvert_exporter": "python",
   "pygments_lexer": "ipython3",
   "version": "3.7.4"
  }
 },
 "nbformat": 4,
 "nbformat_minor": 2
}
