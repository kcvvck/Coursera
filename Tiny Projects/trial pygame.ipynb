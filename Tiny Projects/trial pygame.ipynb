{
 "cells": [
  {
   "cell_type": "code",
   "execution_count": 4,
   "metadata": {},
   "outputs": [
    {
     "ename": "IndentationError",
     "evalue": "unindent does not match any outer indentation level (<tokenize>, line 24)",
     "output_type": "error",
     "traceback": [
      "\u001b[0;36m  File \u001b[0;32m\"<tokenize>\"\u001b[0;36m, line \u001b[0;32m24\u001b[0m\n\u001b[0;31m    HERO.pacPosition(GAME)\u001b[0m\n\u001b[0m    ^\u001b[0m\n\u001b[0;31mIndentationError\u001b[0m\u001b[0;31m:\u001b[0m unindent does not match any outer indentation level\n"
     ]
    }
   ],
   "source": [
    "import pygame\n",
    "from pygame.locals import * \n",
    "from random import randint\n",
    "from classes import *\n",
    "\n",
    "if __name__ == \"__main__\" or __name__ == \"pacman\" :\n",
    "\n",
    "    GAME = Maze()\n",
    "    HERO = Pacman()\n",
    "    VILLIAN = Ghost()\n",
    "    VILLIAN2 = Ghost()\n",
    "    pygame.init()\n",
    "    GAME.scorefont = pygame.font.Font(None,30)\n",
    "    done = False\n",
    "    clock = pygame.time.Clock()\n",
    "\n",
    "    while done == False:\n",
    "            for event in pygame.event.get():\n",
    "                if event.type == pygame.QUIT:\n",
    "                    done = True\n",
    "                if event.type == KEYDOWN:\n",
    "            if event.key == K_q:\n",
    "                    done = True\n",
    "        HERO.pacPosition(GAME)        \n",
    "        GAME.screen.fill(GAME.BLACK)\n",
    "        VILLIAN.ghostPosition(GAME)\n",
    "        VILLIAN2.ghostPosition(GAME)        \n",
    "        move = randint(0,3)\n",
    "        GAME.countfinal=0\n",
    "        GAME.dispmaze()\n",
    "        GAME.drawwalls() \n",
    "        HERO.pos(GAME)\n",
    "        VILLIAN.pos(GAME)\n",
    "        VILLIAN2.pos(GAME) \n",
    "        if HERO.checkGhost(VILLIAN) or HERO.checkGhost(VILLIAN2):\n",
    "            done = True\n",
    "            print \"Final Score = \"+(str)(GAME.score)\n",
    "        elif GAME.countfinal == 1200 :\n",
    "            GAME.reset()\n",
    "            HERO.resetpacman()\n",
    "            VILLIAN.resetghost()\n",
    "            VILLIAN2.resetghost()\n",
    "            GAME.level += 1\t\n",
    "        GAME.scoredisp()\n",
    "        GAME.leveldisp()        \n",
    "        clock.tick(10)\n",
    "        pygame.display.flip()\n",
    "    pygame.quit()"
   ]
  },
  {
   "cell_type": "code",
   "execution_count": 5,
   "metadata": {},
   "outputs": [
    {
     "ename": "ModuleNotFoundError",
     "evalue": "No module named 'pygame'",
     "output_type": "error",
     "traceback": [
      "\u001b[0;31m---------------------------------------------------------------------------\u001b[0m",
      "\u001b[0;31mModuleNotFoundError\u001b[0m                       Traceback (most recent call last)",
      "\u001b[0;32m<ipython-input-5-671b35b41eba>\u001b[0m in \u001b[0;36m<module>\u001b[0;34m\u001b[0m\n\u001b[0;32m----> 1\u001b[0;31m \u001b[0;32mimport\u001b[0m \u001b[0mpygame\u001b[0m\u001b[0;34m\u001b[0m\u001b[0;34m\u001b[0m\u001b[0m\n\u001b[0m",
      "\u001b[0;31mModuleNotFoundError\u001b[0m: No module named 'pygame'"
     ]
    }
   ],
   "source": [
    "import cx_Freeze\n",
    "\n",
    "executables = [cx_Freeze.Executable(\"Untitled.py\")]\n",
    "\n",
    "cx_Freeze.setup(\n",
    "    name=\"Love game\",\n",
    "    options={\"build_exe\": {\"packages\":[\"pygame\"],\n",
    "                           \"include_files\":[\"/Users/cv/Documents/game\"]}},\n",
    "    executables = executables\n",
    "\n",
    "    )\n"
   ]
  },
  {
   "cell_type": "code",
   "execution_count": 6,
   "metadata": {},
   "outputs": [
    {
     "ename": "SyntaxError",
     "evalue": "invalid syntax (<ipython-input-6-36a2e3cf17fc>, line 1)",
     "output_type": "error",
     "traceback": [
      "\u001b[0;36m  File \u001b[0;32m\"<ipython-input-6-36a2e3cf17fc>\"\u001b[0;36m, line \u001b[0;32m1\u001b[0m\n\u001b[0;31m    conda update --all\u001b[0m\n\u001b[0m               ^\u001b[0m\n\u001b[0;31mSyntaxError\u001b[0m\u001b[0;31m:\u001b[0m invalid syntax\n"
     ]
    }
   ],
   "source": [
    "conda update --all"
   ]
  },
  {
   "cell_type": "code",
   "execution_count": null,
   "metadata": {},
   "outputs": [],
   "source": []
  }
 ],
 "metadata": {
  "kernelspec": {
   "display_name": "Python 3",
   "language": "python",
   "name": "python3"
  },
  "language_info": {
   "codemirror_mode": {
    "name": "ipython",
    "version": 3
   },
   "file_extension": ".py",
   "mimetype": "text/x-python",
   "name": "python",
   "nbconvert_exporter": "python",
   "pygments_lexer": "ipython3",
   "version": "3.7.4"
  }
 },
 "nbformat": 4,
 "nbformat_minor": 2
}
