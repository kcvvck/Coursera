{
 "cells": [
  {
   "cell_type": "code",
   "execution_count": null,
   "metadata": {},
   "outputs": [],
   "source": [
    "the_sum = 0\n",
    "number_str = input(\"Number: \") \\\n",
    "\n",
    "while number_str != \".\":\n",
    "\tnumber = int(number_str)\n",
    "\tif number % 2 == 1:\n",
    "\t\tprint(\"error, even numbers only.\")\n",
    "\t\tnumber_str = input(\"Numbers: \")\n",
    "\t\tcontinue\n",
    "\tthe_sum += number\n",
    "\tnumber_str = input(\"Numbers: \")\n",
    "else:\n",
    "\t\tprint(the_sum)"
   ]
  },
  {
   "cell_type": "code",
   "execution_count": null,
   "metadata": {},
   "outputs": [],
   "source": [
    "sum = 0"
   ]
  },
  {
   "cell_type": "code",
   "execution_count": null,
   "metadata": {},
   "outputs": [],
   "source": [
    "for no in list(range(1,11)):\n",
    "    sum += no\n",
    "print(sum)"
   ]
  },
  {
   "cell_type": "code",
   "execution_count": null,
   "metadata": {},
   "outputs": [],
   "source": [
    "print(range(1, 101, +2))"
   ]
  },
  {
   "cell_type": "code",
   "execution_count": null,
   "metadata": {},
   "outputs": [],
   "source": [
    "table = list(range(1, 11))\n",
    "multiplant = 1\n",
    "number = int(input(\"Input any positive integer between 1 to 50\"))\n",
    "\n",
    "for no in table:\n",
    "    result = multiplant * number\n",
    "    print(multiplant, \"x\", number, \"=\", result)\n",
    "    multiplant += 1"
   ]
  },
  {
   "cell_type": "code",
   "execution_count": null,
   "metadata": {},
   "outputs": [],
   "source": [
    "x = range(1,11)\n",
    "\n",
    "userinput = int(input(\"Input your number here: \"))\n",
    "for element in x:\n",
    "    print(element, \"x\", userinput, \"=\", userinput*element)\n",
    "    \n",
    "    "
   ]
  },
  {
   "cell_type": "code",
   "execution_count": null,
   "metadata": {},
   "outputs": [],
   "source": [
    "for letters in \"python\":\n",
    "    if letters == \"h\":\n",
    "        continue;\n",
    "    print(letters, end = \"\")"
   ]
  },
  {
   "cell_type": "code",
   "execution_count": null,
   "metadata": {},
   "outputs": [],
   "source": [
    "userinput = int(input(\"Input an integer: \"))\n",
    "\n",
    "for number in range(2, userinput):\n",
    "    if userinput % number == 0:\n",
    "        print(\"integer is not a prime number\")\n",
    "        break\n",
    "    else:\n",
    "        print(\"integer is a prime number\")\n",
    "        break"
   ]
  },
  {
   "cell_type": "code",
   "execution_count": null,
   "metadata": {},
   "outputs": [],
   "source": [
    "m = range(1, 11)\n",
    "n = range(1, 10)\n",
    "\n",
    "for first in n:\n",
    "    for second in m:\n",
    "        print(first, 'x', second, '=', first*second, end = ' ')\n",
    "    print()"
   ]
  },
  {
   "cell_type": "code",
   "execution_count": null,
   "metadata": {},
   "outputs": [],
   "source": [
    "userinput = int(input(\"Input your integer here: \"))\n",
    "\n",
    "for i in range(2, userinput):\n",
    "    if userinput % i == 0:\n",
    "        print(\"integer is NOT a prime number\")\n",
    "        break\n",
    "    else:\n",
    "        print(\"integer is a prime number\")\n",
    "        break"
   ]
  },
  {
   "cell_type": "code",
   "execution_count": 2,
   "metadata": {},
   "outputs": [
    {
     "name": "stdout",
     "output_type": "stream",
     "text": [
      "Input your integer here: 5\n",
      "1 is a prime number\n",
      "2\n",
      "1\n",
      "2 is NOt a prime number\n",
      "3\n",
      "1\n",
      "3 is NOt a prime number\n",
      "4\n",
      "1\n",
      "4 is NOt a prime number\n",
      "5\n",
      "1\n",
      "5 is NOt a prime number\n"
     ]
    }
   ],
   "source": [
    "userinput = int(input(\"Input your integer here: \"))\n",
    "x = list(range(1, userinput + 1))\n",
    "\n",
    "for a in x:\n",
    "    for i in range(1, a + 1):\n",
    "        if a == 1:\n",
    "            print(a, \"is a prime number\")\n",
    "            i += 1\n",
    "            break;\n",
    "        else:\n",
    "            print(a)\n",
    "            print(i)\n",
    "            if a % i == 0 and a != i:\n",
    "                print(a, \"is NOt a prime number\")\n",
    "                i += 1\n",
    "                break;\n",
    "            else:\n",
    "                print(a, \"is a prime number\")\n",
    "                i += 1\n",
    "                break;"
   ]
  },
  {
   "cell_type": "code",
   "execution_count": 10,
   "metadata": {},
   "outputs": [
    {
     "name": "stdout",
     "output_type": "stream",
     "text": [
      "Input your integer here: 8\n",
      "1 is a prime number\n",
      "2 is a prime number\n",
      "3 is a prime number\n",
      "4 is not a prime number\n",
      "5 is definetely prime number\n",
      "6 is not a prime number\n",
      "7 is definetely prime number\n",
      "8 is not a prime number\n"
     ]
    }
   ],
   "source": [
    "userinput = int(input(\"Input your integer here: \"))\n",
    "x = list(range(1, userinput + 1))\n",
    "\n",
    "for a in x:\n",
    "    if a == 1 or a == 2 or a == 3:\n",
    "        print(a, \"is a prime number\")\n",
    "    elif a % 2 == 0 or a % 3 == 0:\n",
    "        print(a, \"is not a prime number\")\n",
    "    else:\n",
    "        print(a, \"is definetely prime number\")"
   ]
  },
  {
   "cell_type": "code",
   "execution_count": null,
   "metadata": {},
   "outputs": [],
   "source": [
    "number_str = input(\"Number: \")\n",
    "the_sum = 0\n",
    "\n",
    "while number_str != \".\":\n",
    "    number = int(number_str)\n",
    "    if number % 2 == 1:\n",
    "        print(\"ERROR\")\n",
    "        number_str = input(\"Number: \")\n",
    "        continue;\n",
    "    the_sum += number\n",
    "    number_str = input(\"Number: \")\n",
    "    \n",
    "print(\"the sum is:\", the_sum)"
   ]
  },
  {
   "cell_type": "code",
   "execution_count": null,
   "metadata": {},
   "outputs": [],
   "source": [
    "impo\n",
    "userinput = int(input(\"Input your integer here\"))"
   ]
  },
  {
   "cell_type": "code",
   "execution_count": null,
   "metadata": {},
   "outputs": [],
   "source": [
    "while userinput < number or userinput > number or userinput == number:\n",
    "\tif userinput < number:\n",
    "\t\tprint(\"number is higher\")\n",
    "\t\tuserinput = float(input(\"input a number: \"))\n",
    "\telif userinput > number:\n",
    "\t\tprint(\"number is lower\")\n",
    "\t\tuserinput = float(input(\"input a number: \"))\n",
    "\telse:\n",
    "\t\tprint(\"Congrats you guessed it!\")\n",
    "\t\tnumber = random.choice(range(1, 100))\n",
    "\t\tuserinput = float(input(\"input a number: \"))"
   ]
  }
 ],
 "metadata": {
  "kernelspec": {
   "display_name": "Python 3",
   "language": "python",
   "name": "python3"
  },
  "language_info": {
   "codemirror_mode": {
    "name": "ipython",
    "version": 3
   },
   "file_extension": ".py",
   "mimetype": "text/x-python",
   "name": "python",
   "nbconvert_exporter": "python",
   "pygments_lexer": "ipython3",
   "version": "3.7.1"
  }
 },
 "nbformat": 4,
 "nbformat_minor": 2
}
