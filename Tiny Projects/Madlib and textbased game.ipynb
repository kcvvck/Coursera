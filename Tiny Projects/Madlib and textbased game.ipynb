{
 "cells": [
  {
   "cell_type": "code",
   "execution_count": null,
   "metadata": {},
   "outputs": [],
   "source": [
    "#Madlibs\n",
    "\n",
    "adjective1 = input(\"adjective: \")\n",
    "adjective2 = input(\"adjective: \")\n",
    "type_of_bird = input(\"type of bird: \")\n",
    "room = input(\"room in a house: \")\n",
    "verb1 = input(\"verb part tense: \")\n",
    "verb2 = input(\"verb: \")\n",
    "relative_name = input(\"relative's name: \")\n",
    "noun1 = input(\"noun: \")\n",
    "liquid = input(\"liquid: \")\n",
    "verb3 = input(\"verb ending with -ing: \")\n",
    "part_of_body = input(\"part of body(plural): \")\n",
    "noun2 = input(\"noun(plural): \")\n",
    "verb4 = input(\"verb ending with -ing: \")\n",
    "noun3 = input(\"noun: \")\n",
    "\n"
   ]
  },
  {
   "cell_type": "code",
   "execution_count": null,
   "metadata": {},
   "outputs": [],
   "source": [
    "while True:\n",
    "    start = input(\"if start story, input '.' \")\n",
    "    if start == \".\":\n",
    "        print(\"It was a\", adjective1, \", cold November day. I woke up to the\", \\\n",
    "              adjective2, \"smell of\", type_of_bird, \"roasting in the\", \\\n",
    "             room, \"downstairs. I\", verb1, \"down the stairs to see if I could help\", \\\n",
    "             verb2, \"the dinner. My mom said, 'see if\", relative_name, \"needs a fresh\", \\\n",
    "             noun1, \"' so I carried a tray of glasses full of\", liquid, \\\n",
    "             \"into the\", verb3, \"room. When I got there, I couldn't believe my\", \\\n",
    "             part_of_body, \"! There were\", noun2, verb4, \"on the\", noun3, \"!\")\n",
    "            break;\n",
    "    else:\n",
    "        pass;"
   ]
  },
  {
   "cell_type": "code",
   "execution_count": 8,
   "metadata": {},
   "outputs": [
    {
     "name": "stdout",
     "output_type": "stream",
     "text": [
      "Welcome to mini textbased game trial 1 , We will be starting a scene where you are stranded in the woods.\n",
      "The wood is thick and dense and it appears to be darkening as the sun falls\n",
      "up ahead as you walk on, you see a small hut.\n",
      "you thank the lord that there is someone who can provide shelter for the night.\n",
      "knock on the door? yes\n",
      "you knocked on the door but there is no reply\n",
      "now you are becoming desperate and scared with the gradually darkening skies.\n",
      "the temperature began to drop as well\n",
      "you tried again to knock on the door all the whilst hudering in on yourself.\n",
      "just then, you reached out a hand and twisted the door knob, discovering that it was unlocked\n",
      "what do you do now? no\n",
      "you froze to death outside. Good job!\n"
     ]
    }
   ],
   "source": [
    "# Textbased game mini project\n",
    "\n",
    "\n",
    "print(\"Welcome to mini textbased game trial 1\", end = \" , \")\n",
    "\n",
    "print(\"We will be starting a scene where you are stranded in the woods.\")\n",
    "print(\"The wood is thick and dense and it appears to be darkening as the sun falls\")\n",
    "print(\"up ahead as you walk on, you see a small hut.\")\n",
    "print(\"you thank the lord that there is someone who can provide shelter for the night.\")\n",
    "\n",
    "entering_the_hut = input(\"knock on the door? \")\n",
    "\n",
    "if \"knock\" in entering_the_hut or \"yes\" in entering_the_hut:\n",
    "    print(\"you knocked on the door but there is no reply\")\n",
    "    print(\"now you are becoming desperate and scared with the gradually darkening skies.\")\n",
    "    print(\"the temperature began to drop as well\")\n",
    "    print(\"you tried again to knock on the door all the whilst hudering in on yourself.\")\n",
    "    print(\"just then, you reached out a hand and twisted the door knob, discovering that it was unlocked\")\n",
    "    \n",
    "    open_the_door = input(\"what do you do now? \")\n",
    "    \n",
    "    if \"open\" in open_the_door:\n",
    "        print(\"you stepped inside and saw that there was nothing but darkness\")\n",
    "    else:\n",
    "        print(\"you froze to death outside. Good job!\")\n",
    "\n",
    "else:\n",
    "    print(\"you froze to death outside. Good job!\")"
   ]
  },
  {
   "cell_type": "markdown",
   "metadata": {},
   "source": [
    "# words = \"blue and yellow\"\n",
    "\n",
    "if \"violet\" in words:\n",
    "    print (\"yes\")\n",
    "else:\n",
    "    print(\"no\")\n",
    "    "
   ]
  },
  {
   "cell_type": "code",
   "execution_count": null,
   "metadata": {},
   "outputs": [],
   "source": [
    "hell = input(\"njdnd: \")\n",
    "\n",
    "if \"yes\" in hell:\n",
    "    print(hell)\n",
    "else:\n",
    "    print(\"no\")"
   ]
  },
  {
   "cell_type": "code",
   "execution_count": null,
   "metadata": {},
   "outputs": [],
   "source": [
    "entering_the_hut = input(\"knock on the door? \")\n",
    "\n",
    "while playing == True:\n",
    "    if \"knock\" in entering_the_hut or \"yes\" in entering_the_hut:\n",
    "        print(\"you knocked on the door but there is no reply\")\n",
    "    else:\n",
    "        print(\"you froze to death outside. Good job!\")\n",
    "        playing = False\n",
    "        \n",
    "open_the_door = input(\"what do you do now? \")\n",
    "\n",
    "while playing == True:\n",
    "    if \"open\" in open_the_door:\n",
    "        print(\"you stepped inside and saw that there was nothing but darkness\")\n",
    "    else:\n",
    "        print(\"you froze to death outside. Good job!\")\n",
    "        playing = False"
   ]
  },
  {
   "cell_type": "code",
   "execution_count": 6,
   "metadata": {},
   "outputs": [
    {
     "name": "stdout",
     "output_type": "stream",
     "text": [
      "knock on the door? yes\n",
      "you knocked on the door but there is no reply\n"
     ]
    }
   ],
   "source": [
    "entering_the_hut = input(\"knock on the door? \")\n",
    "\n",
    "\n",
    "if \"knock\" in entering_the_hut or \"yes\" in entering_the_hut:\n",
    "    print(\"you knocked on the door but there is no reply\")\n",
    "else:\n",
    "    print(\"you froze to death outside. Good job!\")"
   ]
  },
  {
   "cell_type": "code",
   "execution_count": null,
   "metadata": {},
   "outputs": [],
   "source": []
  }
 ],
 "metadata": {
  "kernelspec": {
   "display_name": "Python 3",
   "language": "python",
   "name": "python3"
  },
  "language_info": {
   "codemirror_mode": {
    "name": "ipython",
    "version": 3
   },
   "file_extension": ".py",
   "mimetype": "text/x-python",
   "name": "python",
   "nbconvert_exporter": "python",
   "pygments_lexer": "ipython3",
   "version": "3.7.1"
  }
 },
 "nbformat": 4,
 "nbformat_minor": 2
}
