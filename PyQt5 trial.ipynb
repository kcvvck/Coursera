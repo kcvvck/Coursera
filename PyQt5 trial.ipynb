{
 "cells": [
  {
   "cell_type": "code",
   "execution_count": null,
   "metadata": {},
   "outputs": [],
   "source": [
    "from PyQt5 import QtWidgets\n",
    "from PyQt5.QtWidgets import QApplication, QMainWindow\n",
    "import sys"
   ]
  },
  {
   "cell_type": "code",
   "execution_count": null,
   "metadata": {},
   "outputs": [],
   "source": [
    "def window():\n",
    "    app = QApplication(sys.argv)\n",
    "    win = QMainWindow()\n",
    "    win.setGeometry(200,200,300,300)\n",
    "    win.setWindowTitle = ('loko')\n",
    "    \n",
    "    label = QtWidgets.QLabel(win)\n",
    "    label.setText('my first GUI')\n",
    "    label.move(50,50)\n",
    "    \n",
    "    win.show()\n",
    "    sys.exit(app.exec_())\n",
    "    \n",
    "window()"
   ]
  },
  {
   "cell_type": "code",
   "execution_count": null,
   "metadata": {},
   "outputs": [],
   "source": []
  }
 ],
 "metadata": {
  "kernelspec": {
   "display_name": "Python 3",
   "language": "python",
   "name": "python3"
  },
  "language_info": {
   "codemirror_mode": {
    "name": "ipython",
    "version": 3
   },
   "file_extension": ".py",
   "mimetype": "text/x-python",
   "name": "python",
   "nbconvert_exporter": "python",
   "pygments_lexer": "ipython3",
   "version": "3.7.4"
  }
 },
 "nbformat": 4,
 "nbformat_minor": 2
}
